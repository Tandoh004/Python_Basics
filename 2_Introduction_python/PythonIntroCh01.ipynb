{
  "cells": [
    {
      "cell_type": "markdown",
      "metadata": {
        "id": "hK52cfaY3gLa"
      },
      "source": [
        "< [Contents](PythonIntro.ipynb) | [Programs in a file, variables and strings](PythonIntroCh02.ipynb) >"
      ]
    },
    {
      "cell_type": "markdown",
      "metadata": {
        "id": "hcvq4nnW3gLg"
      },
      "source": [
        "# 1. Very simple 'programs'\n",
        "## 1.1 Running Python from the command line\n",
        "In order to test pieces of code we can run Python from the command line. In this Jupyter Notebook we are going to simulate this. You can type the commands in the fields and execute them.<br>\n",
        "In the field type:<br>\n",
        "```python\n",
        "print('Hello, World')\n",
        "```\n",
        "Then press `<shift> + <return>` to execute the command.\n",
        "\n"
      ]
    },
    {
      "cell_type": "code",
      "execution_count": 1,
      "metadata": {
        "colab": {
          "base_uri": "https://localhost:8080/"
        },
        "id": "YBxIox-23gLh",
        "outputId": "c28a71bb-9245-4a54-e38f-688ffc9be8cf"
      },
      "outputs": [
        {
          "output_type": "stream",
          "name": "stdout",
          "text": [
            "Hello, World\n"
          ]
        }
      ],
      "source": [
        "print('Hello, World')"
      ]
    },
    {
      "cell_type": "markdown",
      "metadata": {
        "id": "q_Qvetvb3gLi"
      },
      "source": [
        "What happened?\n",
        "\n",
        "You just created a program, that prints the words 'Hello, World'. The Python environment that you are in immediately compiles whatever you have typed in. This is useful for testing things, e.g. define a few variables, and then test to see if a certain line will work. That will come in a later lesson, though."
      ]
    },
    {
      "cell_type": "markdown",
      "metadata": {
        "id": "ObvI3T0m3gLj"
      },
      "source": [
        "## 1.2 Math in Python\n",
        "Type<br>\n",
        "```python\n",
        "1 + 1\n",
        "```\n",
        "and execute the code."
      ]
    },
    {
      "cell_type": "code",
      "execution_count": 2,
      "metadata": {
        "scrolled": true,
        "colab": {
          "base_uri": "https://localhost:8080/"
        },
        "id": "39uuTG0A3gLk",
        "outputId": "1fb4a715-8f54-40d2-fc3b-7bf2ca99c196"
      },
      "outputs": [
        {
          "output_type": "execute_result",
          "data": {
            "text/plain": [
              "2"
            ]
          },
          "metadata": {},
          "execution_count": 2
        }
      ],
      "source": [
        "1 + 1"
      ]
    },
    {
      "cell_type": "markdown",
      "metadata": {
        "id": "fCLOwD9i3gLm"
      },
      "source": [
        "Now type\n",
        "```python\n",
        "20 + 80\n",
        "```\n",
        "and execute the code."
      ]
    },
    {
      "cell_type": "code",
      "execution_count": 3,
      "metadata": {
        "colab": {
          "base_uri": "https://localhost:8080/"
        },
        "id": "d-HRvQuM3gLn",
        "outputId": "4bf15199-d75b-4939-c83b-5a8fea6dafaa"
      },
      "outputs": [
        {
          "output_type": "execute_result",
          "data": {
            "text/plain": [
              "100"
            ]
          },
          "metadata": {},
          "execution_count": 3
        }
      ],
      "source": [
        "20 + 80"
      ]
    },
    {
      "cell_type": "markdown",
      "metadata": {
        "id": "bpb25gKc3gLo"
      },
      "source": [
        "These are additions. We can of course use other mathematical operators.<br>\n",
        "Try this subtraction:<br>\n",
        "```python\n",
        "6 - 5\n",
        "```"
      ]
    },
    {
      "cell_type": "code",
      "execution_count": 4,
      "metadata": {
        "colab": {
          "base_uri": "https://localhost:8080/"
        },
        "id": "ByQS0zpX3gLo",
        "outputId": "902457c3-e9ea-4d28-db65-9eecb1b1be6e"
      },
      "outputs": [
        {
          "output_type": "execute_result",
          "data": {
            "text/plain": [
              "-1"
            ]
          },
          "metadata": {},
          "execution_count": 4
        }
      ],
      "source": [
        "5 -  6"
      ]
    },
    {
      "cell_type": "markdown",
      "metadata": {
        "id": "Ma2kOMRY3gLo"
      },
      "source": [
        "and this multiplication:<br>\n",
        "```python\n",
        "2 * 5\n",
        "```"
      ]
    },
    {
      "cell_type": "code",
      "execution_count": 5,
      "metadata": {
        "colab": {
          "base_uri": "https://localhost:8080/"
        },
        "id": "LiKTpnbI3gLp",
        "outputId": "aa5d0f91-2da8-4a0e-e1b1-966d42a9c5c6"
      },
      "outputs": [
        {
          "output_type": "execute_result",
          "data": {
            "text/plain": [
              "10"
            ]
          },
          "metadata": {},
          "execution_count": 5
        }
      ],
      "source": [
        "2 * 5"
      ]
    },
    {
      "cell_type": "markdown",
      "metadata": {
        "id": "OayvY1WA3gLp"
      },
      "source": [
        "Try:\n",
        "```python\n",
        "5 ** 2\n",
        "```"
      ]
    },
    {
      "cell_type": "code",
      "execution_count": 6,
      "metadata": {
        "colab": {
          "base_uri": "https://localhost:8080/"
        },
        "id": "rHA4e78Q3gLp",
        "outputId": "5a734e49-79b8-4d50-a87b-5de50f8b0009"
      },
      "outputs": [
        {
          "output_type": "execute_result",
          "data": {
            "text/plain": [
              "25"
            ]
          },
          "metadata": {},
          "execution_count": 6
        }
      ],
      "source": [
        "5 ** 2"
      ]
    },
    {
      "cell_type": "markdown",
      "metadata": {
        "id": "RKbB-jKh3gLp"
      },
      "source": [
        "`**` is the exponential operator, so we executed 5 squared."
      ]
    },
    {
      "cell_type": "markdown",
      "metadata": {
        "id": "2KuB0q1j3gLq"
      },
      "source": [
        "Type:\n",
        "```python\n",
        "print('1 + 2 is an addition')\n",
        "```"
      ]
    },
    {
      "cell_type": "code",
      "execution_count": 7,
      "metadata": {
        "colab": {
          "base_uri": "https://localhost:8080/"
        },
        "id": "sSDu3uZn3gLq",
        "outputId": "22bf5a5f-c55e-41fb-b214-5060202c9eef"
      },
      "outputs": [
        {
          "output_type": "stream",
          "name": "stdout",
          "text": [
            "1 + 2 is an addition\n"
          ]
        }
      ],
      "source": [
        "print('1 + 2 is an addition')"
      ]
    },
    {
      "cell_type": "markdown",
      "metadata": {
        "id": "4cbDks-q3gLq"
      },
      "source": [
        "You see that the `print` statement writes something on the screen.\n",
        "\n",
        "Try this:\n",
        "```python\n",
        "print('one kilobyte is 2^10 bytes, or', 2 ** 10, 'bytes')\n",
        "```"
      ]
    },
    {
      "cell_type": "code",
      "execution_count": 8,
      "metadata": {
        "colab": {
          "base_uri": "https://localhost:8080/"
        },
        "id": "Lqp71suI3gLq",
        "outputId": "0655abe1-9876-4c93-afda-fe9c7df91ef5"
      },
      "outputs": [
        {
          "output_type": "stream",
          "name": "stdout",
          "text": [
            "one kilobyte is 2^10 byte, or 1024 bytes\n"
          ]
        }
      ],
      "source": [
        "print('one kilobyte is 2^10 byte, or', 2**10,'bytes')"
      ]
    },
    {
      "cell_type": "markdown",
      "metadata": {
        "id": "KV6d3TcV3gLq"
      },
      "source": [
        "This demonstrates that you can print text and calculations in a sentence. The commas separating each section are a way of separating strings (text) from calculations or variable."
      ]
    },
    {
      "cell_type": "markdown",
      "metadata": {
        "id": "xKim3lG03gLr"
      },
      "source": [
        "Now try this:\n",
        "```python\n",
        "23 / 3\n",
        "```"
      ]
    },
    {
      "cell_type": "code",
      "execution_count": 9,
      "metadata": {
        "colab": {
          "base_uri": "https://localhost:8080/"
        },
        "id": "VvjJO1La3gLr",
        "outputId": "60288473-000d-40f9-ef95-7b8df36899c6"
      },
      "outputs": [
        {
          "output_type": "execute_result",
          "data": {
            "text/plain": [
              "7.666666666666667"
            ]
          },
          "metadata": {},
          "execution_count": 9
        }
      ],
      "source": [
        "23 / 3"
      ]
    },
    {
      "cell_type": "markdown",
      "metadata": {
        "id": "8yjdkkG63gLr"
      },
      "source": [
        "And this:<br>\n",
        "```python\n",
        "23 % 3\n",
        "```"
      ]
    },
    {
      "cell_type": "code",
      "execution_count": 10,
      "metadata": {
        "colab": {
          "base_uri": "https://localhost:8080/"
        },
        "id": "nBFu7IZy3gLr",
        "outputId": "33cb37f0-416f-4f3c-d298-12973ebd0dc0"
      },
      "outputs": [
        {
          "output_type": "execute_result",
          "data": {
            "text/plain": [
              "2"
            ]
          },
          "metadata": {},
          "execution_count": 10
        }
      ],
      "source": [
        "23 % 3"
      ]
    },
    {
      "cell_type": "markdown",
      "metadata": {
        "id": "Q6Zq73wX3gLr"
      },
      "source": [
        "`%` returns the remainder of the division."
      ]
    },
    {
      "cell_type": "markdown",
      "metadata": {
        "id": "s6ynh9nB3gLr"
      },
      "source": [
        "## 1.3 Order of Operations"
      ]
    },
    {
      "cell_type": "markdown",
      "metadata": {
        "id": "iwksDmRL3gLs"
      },
      "source": [
        "Remember that thing called order of operation that they taught in maths? Well, it applies in Python, too. Here it is, if you need reminding:<br>\n",
        "1. Parenthesis `()`\n",
        "2. Exponents `**`\n",
        "3. Multiplication `*`, division `/` and remainder `%`\n",
        "4. Addition `+` and subtraction `-`"
      ]
    },
    {
      "cell_type": "markdown",
      "metadata": {
        "id": "Pnp_5HFp3gLs"
      },
      "source": [
        "Here are some examples that you might want to try, if you're rusty on this:<br>\n",
        "```python\n",
        "1 + 2 * 3\n",
        "(1 + 2) * 3\n",
        "```"
      ]
    },
    {
      "cell_type": "code",
      "execution_count": 11,
      "metadata": {
        "colab": {
          "base_uri": "https://localhost:8080/"
        },
        "id": "Gq54FXqM3gLs",
        "outputId": "8fd11c76-1210-448d-ccda-331fb4a3882d"
      },
      "outputs": [
        {
          "output_type": "execute_result",
          "data": {
            "text/plain": [
              "7"
            ]
          },
          "metadata": {},
          "execution_count": 11
        }
      ],
      "source": [
        "1 + 2 * 3"
      ]
    },
    {
      "cell_type": "code",
      "execution_count": 12,
      "metadata": {
        "colab": {
          "base_uri": "https://localhost:8080/"
        },
        "id": "ydpnjk4I3gLs",
        "outputId": "bdeffabe-c54d-4cd5-b91e-1c4037c9aecf"
      },
      "outputs": [
        {
          "output_type": "execute_result",
          "data": {
            "text/plain": [
              "9"
            ]
          },
          "metadata": {},
          "execution_count": 12
        }
      ],
      "source": [
        "(1 + 2) * 3"
      ]
    },
    {
      "cell_type": "markdown",
      "metadata": {
        "id": "pVuPy-x_3gLs"
      },
      "source": [
        "## 1.4 Comments, Please\n",
        "The final thing you'll need to know to move on to multi-line programs is the comment. Type the following (and yes, the output is shown):\n",
        "```python\n",
        "# I am a comment. Fear my wrath!\n",
        "```"
      ]
    },
    {
      "cell_type": "code",
      "execution_count": 13,
      "metadata": {
        "id": "JVUq2Dpp3gLs"
      },
      "outputs": [],
      "source": [
        "# I am a comment. Fear my wrath!"
      ]
    },
    {
      "cell_type": "markdown",
      "metadata": {
        "id": "EtYNbhNA3gLs"
      },
      "source": [
        "A comment is a piece of code that is not run. In Python, you make something a comment by putting a hash in front of it. A hash comments everything after it in the line, and nothing before it. So you could type this:\n",
        "```python\n",
        "print(\"food is very nice\") #eat me\n",
        "```"
      ]
    },
    {
      "cell_type": "code",
      "execution_count": 14,
      "metadata": {
        "colab": {
          "base_uri": "https://localhost:8080/"
        },
        "id": "AQ0HLzgi3gLt",
        "outputId": "bd409a69-9a2c-4547-e1d2-41b3deac1bfd"
      },
      "outputs": [
        {
          "output_type": "stream",
          "name": "stdout",
          "text": [
            "food is very nice\n"
          ]
        }
      ],
      "source": [
        "print(\"food is very nice\") #eat me"
      ]
    },
    {
      "cell_type": "markdown",
      "metadata": {
        "id": "LHa1jvA_3gLt"
      },
      "source": [
        "This results in a normal output, without the smutty comment, thank you very much.\n",
        "\n",
        "Now try this:\n",
        "```python\n",
        "# print(\"food is very nice\")\n",
        "```"
      ]
    },
    {
      "cell_type": "code",
      "execution_count": 15,
      "metadata": {
        "id": "2zBfYP0e3gLt"
      },
      "outputs": [],
      "source": [
        "# print(\"food is very nice\")"
      ]
    },
    {
      "cell_type": "markdown",
      "metadata": {
        "id": "dtG-V6jE3gLt"
      },
      "source": [
        "Nothing happens, because the code was after a comment."
      ]
    },
    {
      "cell_type": "markdown",
      "metadata": {
        "id": "Lk3M7uh53gLt"
      },
      "source": [
        "Comments are important for adding necessary information for another programmer to read, but not the computer. For example, an explanation of a section of code, saying what it does, or what is wrong with it. You can also comment bits of code by putting a `#` in front of it - if you don't want it to compile, but can't delete it because you might need it later."
      ]
    },
    {
      "cell_type": "markdown",
      "metadata": {
        "id": "8VMX-OPS3gLt"
      },
      "source": [
        "< [Contents](PythonIntro.ipynb) | [Programs in a file, variables and strings](PythonIntroCh02.ipynb) >"
      ]
    }
  ],
  "metadata": {
    "kernelspec": {
      "display_name": "Python 3 (ipykernel)",
      "language": "python",
      "name": "python3"
    },
    "language_info": {
      "codemirror_mode": {
        "name": "ipython",
        "version": 3
      },
      "file_extension": ".py",
      "mimetype": "text/x-python",
      "name": "python",
      "nbconvert_exporter": "python",
      "pygments_lexer": "ipython3",
      "version": "3.12.2"
    },
    "colab": {
      "provenance": []
    }
  },
  "nbformat": 4,
  "nbformat_minor": 0
}